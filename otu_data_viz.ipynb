{
 "cells": [
  {
   "cell_type": "code",
   "execution_count": 1,
   "metadata": {
    "collapsed": true
   },
   "outputs": [],
   "source": [
    "# importing packages/modules\n",
    "\n",
    "import pandas as pd\n",
    "from sklearn.manifold import TSNE\n",
    "from sklearn.feature_extraction import DictVectorizer\n",
    "import matplotlib.pyplot as plt\n",
    "import seaborn as sns\n",
    "import numpy as np\n",
    "from sklearn.decomposition import PCA\n",
    "from sklearn.preprocessing import StandardScaler\n",
    "from sklearn.pipeline import Pipeline\n",
    "\n",
    "sns.set_style('darkgrid')"
   ]
  },
  {
   "cell_type": "markdown",
   "metadata": {},
   "source": [
    "Objective: Use unsupervised learning to create distinct clusters to represent the most abundant OTU(Operational taxonomic units)/identities of bacteria found in a mouse *Mus Musculus* based on schloss lab MiSeq standard operating procedures (SOPs)."
   ]
  },
  {
   "cell_type": "code",
   "execution_count": 2,
   "metadata": {
    "collapsed": true
   },
   "outputs": [],
   "source": [
    "# import the csv file into jupyter\n",
    "\n",
    "df = pd.read_csv(\"0.16.cons.taxonomy.csv\", delimiter=\";\",index_col=0, usecols=[\"otu\",\"size\",\"identity\",\"phylum\",\"class\",\"order\",\"family\",\"genus\",\"genus_0\",\"genus_1\"])"
   ]
  },
  {
   "cell_type": "code",
   "execution_count": 3,
   "metadata": {
    "collapsed": false
   },
   "outputs": [
    {
     "data": {
      "text/html": [
       "<div>\n",
       "<style scoped>\n",
       "    .dataframe tbody tr th:only-of-type {\n",
       "        vertical-align: middle;\n",
       "    }\n",
       "\n",
       "    .dataframe tbody tr th {\n",
       "        vertical-align: top;\n",
       "    }\n",
       "\n",
       "    .dataframe thead th {\n",
       "        text-align: right;\n",
       "    }\n",
       "</style>\n",
       "<table border=\"1\" class=\"dataframe\">\n",
       "  <thead>\n",
       "    <tr style=\"text-align: right;\">\n",
       "      <th></th>\n",
       "      <th>size</th>\n",
       "      <th>identity</th>\n",
       "      <th>phylum</th>\n",
       "      <th>class</th>\n",
       "      <th>order</th>\n",
       "      <th>family</th>\n",
       "      <th>genus</th>\n",
       "      <th>genus_0</th>\n",
       "      <th>genus_1</th>\n",
       "    </tr>\n",
       "    <tr>\n",
       "      <th>otu</th>\n",
       "      <th></th>\n",
       "      <th></th>\n",
       "      <th></th>\n",
       "      <th></th>\n",
       "      <th></th>\n",
       "      <th></th>\n",
       "      <th></th>\n",
       "      <th></th>\n",
       "      <th></th>\n",
       "    </tr>\n",
       "  </thead>\n",
       "  <tbody>\n",
       "    <tr>\n",
       "      <th>Otu001</th>\n",
       "      <td>61864</td>\n",
       "      <td>Bacteria(100)</td>\n",
       "      <td>Bacteroidetes(100)</td>\n",
       "      <td>Bacteroidia(100)</td>\n",
       "      <td>Bacteroidales(100)</td>\n",
       "      <td>Porphyromonadaceae(100)</td>\n",
       "      <td>Barnesiella(96)</td>\n",
       "      <td>Barnesiella_unclassified(96)</td>\n",
       "      <td>Barnesiella_unclassified(96)</td>\n",
       "    </tr>\n",
       "    <tr>\n",
       "      <th>Otu002</th>\n",
       "      <td>23360</td>\n",
       "      <td>Bacteria(100)</td>\n",
       "      <td>Firmicutes(100)</td>\n",
       "      <td>Clostridia(100)</td>\n",
       "      <td>Clostridiales(100)</td>\n",
       "      <td>Lachnospiraceae(89)</td>\n",
       "      <td>Lachnospiraceae_unclassified(61)</td>\n",
       "      <td>Lachnospiraceae_unclassified(61)</td>\n",
       "      <td>Lachnospiraceae_unclassified(61)</td>\n",
       "    </tr>\n",
       "    <tr>\n",
       "      <th>Otu003</th>\n",
       "      <td>6679</td>\n",
       "      <td>Bacteria(100)</td>\n",
       "      <td>Firmicutes(100)</td>\n",
       "      <td>Bacilli(100)</td>\n",
       "      <td>Lactobacillales(100)</td>\n",
       "      <td>Lactobacillaceae(95)</td>\n",
       "      <td>Lactobacillus(95)</td>\n",
       "      <td>Lactobacillus_unclassified(95)</td>\n",
       "      <td>Lactobacillus_unclassified(95)</td>\n",
       "    </tr>\n",
       "    <tr>\n",
       "      <th>Otu004</th>\n",
       "      <td>6584</td>\n",
       "      <td>Bacteria(100)</td>\n",
       "      <td>Bacteroidetes(100)</td>\n",
       "      <td>Bacteroidia(100)</td>\n",
       "      <td>Bacteroidales(100)</td>\n",
       "      <td>Bacteroidaceae(100)</td>\n",
       "      <td>Bacteroides(100)</td>\n",
       "      <td>Bacteroides_unclassified(100)</td>\n",
       "      <td>Bacteroides_unclassified(100)</td>\n",
       "    </tr>\n",
       "    <tr>\n",
       "      <th>Otu005</th>\n",
       "      <td>5376</td>\n",
       "      <td>Bacteria(100)</td>\n",
       "      <td>Bacteroidetes(100)</td>\n",
       "      <td>Bacteroidia(100)</td>\n",
       "      <td>Bacteroidales(100)</td>\n",
       "      <td>Rikenellaceae(100)</td>\n",
       "      <td>Alistipes(100)</td>\n",
       "      <td>Alistipes_unclassified(100)</td>\n",
       "      <td>Alistipes_unclassified(100)</td>\n",
       "    </tr>\n",
       "  </tbody>\n",
       "</table>\n",
       "</div>"
      ],
      "text/plain": [
       "         size       identity              phylum             class  \\\n",
       "otu                                                                  \n",
       "Otu001  61864  Bacteria(100)  Bacteroidetes(100)  Bacteroidia(100)   \n",
       "Otu002  23360  Bacteria(100)     Firmicutes(100)   Clostridia(100)   \n",
       "Otu003   6679  Bacteria(100)     Firmicutes(100)      Bacilli(100)   \n",
       "Otu004   6584  Bacteria(100)  Bacteroidetes(100)  Bacteroidia(100)   \n",
       "Otu005   5376  Bacteria(100)  Bacteroidetes(100)  Bacteroidia(100)   \n",
       "\n",
       "                       order                   family  \\\n",
       "otu                                                     \n",
       "Otu001    Bacteroidales(100)  Porphyromonadaceae(100)   \n",
       "Otu002    Clostridiales(100)      Lachnospiraceae(89)   \n",
       "Otu003  Lactobacillales(100)     Lactobacillaceae(95)   \n",
       "Otu004    Bacteroidales(100)      Bacteroidaceae(100)   \n",
       "Otu005    Bacteroidales(100)       Rikenellaceae(100)   \n",
       "\n",
       "                                   genus                           genus_0  \\\n",
       "otu                                                                          \n",
       "Otu001                   Barnesiella(96)      Barnesiella_unclassified(96)   \n",
       "Otu002  Lachnospiraceae_unclassified(61)  Lachnospiraceae_unclassified(61)   \n",
       "Otu003                 Lactobacillus(95)    Lactobacillus_unclassified(95)   \n",
       "Otu004                  Bacteroides(100)     Bacteroides_unclassified(100)   \n",
       "Otu005                    Alistipes(100)       Alistipes_unclassified(100)   \n",
       "\n",
       "                                 genus_1  \n",
       "otu                                       \n",
       "Otu001      Barnesiella_unclassified(96)  \n",
       "Otu002  Lachnospiraceae_unclassified(61)  \n",
       "Otu003    Lactobacillus_unclassified(95)  \n",
       "Otu004     Bacteroides_unclassified(100)  \n",
       "Otu005       Alistipes_unclassified(100)  "
      ]
     },
     "execution_count": 3,
     "metadata": {},
     "output_type": "execute_result"
    }
   ],
   "source": [
    "# look at the first couple of rows\n",
    "df.head()"
   ]
  },
  {
   "cell_type": "code",
   "execution_count": 4,
   "metadata": {
    "collapsed": false
   },
   "outputs": [
    {
     "name": "stdout",
     "output_type": "stream",
     "text": [
      "<class 'pandas.core.frame.DataFrame'>\n",
      "Index: 106 entries, Otu001 to Otu106\n",
      "Data columns (total 9 columns):\n",
      "size        106 non-null int64\n",
      "identity    106 non-null object\n",
      "phylum      106 non-null object\n",
      "class       106 non-null object\n",
      "order       106 non-null object\n",
      "family      106 non-null object\n",
      "genus       106 non-null object\n",
      "genus_0     106 non-null object\n",
      "genus_1     106 non-null object\n",
      "dtypes: int64(1), object(8)\n",
      "memory usage: 8.3+ KB\n"
     ]
    }
   ],
   "source": [
    "# give a concise summary of the dataset\n",
    "df.info()"
   ]
  },
  {
   "cell_type": "code",
   "execution_count": 5,
   "metadata": {
    "collapsed": true
   },
   "outputs": [],
   "source": [
    "# changing the type of the column to int32 to reduce memory usage \n",
    "# the other columns are of the right type\n",
    "\n",
    "df['size'] = df['size'].astype('int32')"
   ]
  },
  {
   "cell_type": "code",
   "execution_count": 6,
   "metadata": {
    "collapsed": false
   },
   "outputs": [
    {
     "name": "stdout",
     "output_type": "stream",
     "text": [
      "They are 0 missing values in this data set.\n"
     ]
    }
   ],
   "source": [
    "# check for NaNs or missing values\n",
    "\n",
    "missing = sum(pd.isnull(df).any())\n",
    "\n",
    "msg = 'They are {} missing values in this data set.'\n",
    "\n",
    "print(msg.format(missing))"
   ]
  },
  {
   "cell_type": "code",
   "execution_count": 7,
   "metadata": {
    "collapsed": false
   },
   "outputs": [
    {
     "data": {
      "text/plain": [
       "Firmicutes(100)               54\n",
       "Proteobacteria(100)           14\n",
       "TM7(100)                      12\n",
       "Bacteria_unclassified(100)    10\n",
       "Bacteroidetes(100)             7\n",
       "Actinobacteria(100)            4\n",
       "Deinococcus-Thermus(100)       4\n",
       "Verrucomicrobia(100)           1\n",
       "Name: phylum, dtype: int64"
      ]
     },
     "execution_count": 7,
     "metadata": {},
     "output_type": "execute_result"
    }
   ],
   "source": [
    "# subsetting the dataframe taking only the phylum columns\n",
    "phylum = df['phylum']\n",
    "\n",
    "# counting each category \n",
    "phylum.value_counts()"
   ]
  },
  {
   "cell_type": "markdown",
   "metadata": {},
   "source": [
    "We have a lot of Firmicues and Proteobacteria. Usually it's **Firmicutes** and **Bacteriodetes** in healthy humans (debatable depends on a lot of factors). Let's change the strings in the columns to numbers using a cool trick with DictVectorizer. For unsupervised learning techniques to work; you need a matrix: rows and columns with numbers."
   ]
  },
  {
   "cell_type": "code",
   "execution_count": 8,
   "metadata": {
    "collapsed": true
   },
   "outputs": [],
   "source": [
    "# Make a boolean mask for categorical columns\n",
    "df_mask = (df.dtypes == object)\n",
    "\n",
    "# Get list of categorical column names\n",
    "df_mask_columns = df.columns[df_mask].tolist()\n",
    "\n",
    "# conversion of dataframe to dictionary \n",
    "df_dict = df.to_dict(\"records\")\n",
    "\n",
    "# We don't want  sparse matrices\n",
    "dv = DictVectorizer(sparse = False)"
   ]
  },
  {
   "cell_type": "code",
   "execution_count": 9,
   "metadata": {
    "collapsed": false
   },
   "outputs": [
    {
     "name": "stdout",
     "output_type": "stream",
     "text": [
      "{'genus=Rhizobiales_unclassified(100)': 94, 'family=Erysipelotrichaceae(100)': 34, 'genus=Bacteroidetes_unclassified(100)': 70, 'order=Bacteroidetes_unclassified(100)': 212, 'genus=Bacteroides(100)': 69, 'family=Lactobacillaceae(95)': 40, 'genus_0=Cryomorphaceae_unclassified(100)': 128, 'genus_1=Bacillales_unclassified(100)': 163, 'genus_1=Firmicutes_unclassified(100)': 181, 'genus_1=unclassified_Clostridiales_unclassified(93)': 203, 'genus_0=Turicibacter_unclassified(100)': 150, 'genus_1=Clostridiales_unclassified(69)': 174, 'order=Neisseriales(100)': 224, 'genus_1=Rhizobiales_unclassified(100)': 192, 'genus_0=Rhizobiales_unclassified(100)': 142, 'genus=Bacilli_unclassified(100)': 66, 'order=Clostridia_unclassified(100)': 214, 'genus=Acinetobacter(100)': 58, 'genus_1=Adlercreutzia(64)': 157, 'genus_1=Staphylococcus_unclassified(100)': 196, 'genus_0=Firmicutes_unclassified(100)': 132, 'class=Erysipelotrichi(100)': 10, 'genus=Stenotrophomonas(100)': 99, 'family=Cryomorphaceae(100)': 31, 'phylum=Bacteroidetes(100)': 233, 'genus_1=Anaerovorax_unclassified(86)': 161, 'genus=Alistipes(100)': 62, 'family=Helicobacteraceae(100)': 37, 'genus_1=Listeria_unclassified(100)': 187, 'genus_0=Aeromonas_unclassified(100)': 108, 'family=Firmicutes_unclassified(100)': 35, 'phylum=Actinobacteria(100)': 231, 'genus_1=Bacilli_unclassified(100)': 164, 'order=Clostridiales(100)': 215, 'genus_0=Escherichia/Shigella_unclassified(100)': 131, 'genus_0=Bacteroidetes_unclassified(100)': 118, 'family=Listeriaceae(100)': 41, 'genus=Lactobacillus(95)': 89, 'genus_1=Aeromonas_unclassified(100)': 158, 'genus_1=Gammaproteobacteria_unclassified(100)': 183, 'size': 239, 'phylum=Verrucomicrobia(100)': 238, 'family=Bacteria_unclassified(100)': 21, 'genus_1=Actinomyces(53)': 156, 'genus_0=Pseudomonadaceae_unclassified(70)': 141, 'order=Erysipelotrichales(100)': 219, 'genus_0=unclassified_Clostridiales_unclassified(93)': 153, 'genus_1=Cryomorphaceae_unclassified(100)': 177, 'genus=Coprobacillus(100)': 78, 'genus_1=Clostridiales_unclassified(67)': 173, 'family=TM7_genera_incertae_sedis_unclassified(100)': 53, 'genus_0=Lactobacillus_unclassified(95)': 137, 'genus_0=Coprobacillus_unclassified(100)': 126, 'genus_0=TM7_genera_incertae_sedis_unclassified(100)': 149, 'genus=Actinomycineae(53)': 59, 'genus_1=Akkermansia_unclassified(100)': 159, 'genus=Neisseria(100)': 91, 'family=Clostridiales_unclassified(69)': 29, 'genus=Barnesiella(96)': 71, 'genus_0=Ruminococcaceae_unclassified(100)': 144, 'family=Bacillales_unclassified(100)': 19, 'genus_0=Stenotrophomonas_unclassified(100)': 147, 'genus_0=unclassified_Ruminococcaceae_unclassified(62)': 154, 'family=Actinomycetales(54)': 16, 'genus_0=Fluviicola_unclassified(100)': 133, 'class=Bacilli(100)': 2, 'genus_1=Ruminococcaceae_unclassified(100)': 194, 'class=Bacteroidetes_unclassified(100)': 4, 'family=unclassified_Clostridiales(93)': 57, 'genus_1=Escherichia/Shigella_unclassified(100)': 180, 'genus=Akkermansia(100)': 61, 'genus_0=Staphylococcus_unclassified(100)': 146, 'order=Enterobacteriales(100)': 218, 'genus_0=Listeria_unclassified(100)': 138, 'order=Verrucomicrobiales(100)': 229, 'family=Enterobacteriaceae(100)': 33, 'genus_1=Lachnospiraceae_unclassified(61)': 185, 'genus_0=Bacillus_unclassified(100)': 115, 'genus=Clostridiaceae_1(100)': 74, 'genus=unclassified_Ruminococcaceae(62)': 105, 'family=Gammaproteobacteria_unclassified(100)': 36, 'family=Pseudomonadaceae(100)': 45, 'genus_0=Clostridiales_unclassified(100)': 122, 'genus=Helicobacter(100)': 87, 'genus=Bacillales_unclassified(100)': 65, 'class=Epsilonproteobacteria(100)': 9, 'class=Gammaproteobacteria(100)': 13, 'family=Lachnospiraceae(89)': 39, 'genus_0=Alistipes_unclassified(100)': 110, 'genus=Staphylococcus(100)': 98, 'family=Bacillaceae(100)': 18, 'family=Bifidobacteriales(100)': 24, 'order=TM7_genera_incertae_sedis_unclassified(100)': 228, 'genus=Bifidobacteriaceae(100)': 72, 'genus_1=Ruminococcaceae_unclassified(96)': 195, 'genus_0=Clostridium(100)': 125, 'genus=Aeromonas(100)': 60, 'genus_0=Clostridia_unclassified(100)': 121, 'genus_0=Ruminococcaceae_unclassified(96)': 145, 'family=Clostridia_unclassified(100)': 25, 'genus_0=Helicobacter_unclassified(100)': 135, 'class=Verrucomicrobiae(100)': 15, 'genus_0=Rhodobacter_unclassified(100)': 143, 'order=Deinococcales(100)': 217, 'genus=Coriobacterineae(100)': 79, 'genus_0=Barnesiella_unclassified(96)': 119, 'genus_0=Acinetobacter_unclassified(100)': 106, 'family=Deinococcaceae(100)': 32, 'order=Rhodobacterales(100)': 227, 'genus=Lachnospiraceae_unclassified(61)': 88, 'class=Deinococci(100)': 8, 'genus_1=Bacteria_unclassified(100)': 166, 'phylum=Firmicutes(100)': 235, 'order=Pseudomonadales(100)': 225, 'genus=Listeria(100)': 90, 'genus=unclassified_Clostridiales_unclassified(63)': 103, 'family=Rhizobiales_unclassified(100)': 46, 'order=Aeromonadales(100)': 207, 'genus=Clostridiales_unclassified(67)': 76, 'genus=Rhodobacter(100)': 95, 'class=Firmicutes_unclassified(100)': 11, 'genus_1=Coprobacillus_unclassified(100)': 176, 'genus=Fluviicola(100)': 85, 'genus_0=Erysipelotrichaceae_unclassified(100)': 130, 'genus_0=Bifidobacterium(100)': 120, 'genus=Bacillus(100)': 67, 'family=Moraxellaceae(100)': 42, 'genus_1=Olsenella(100)': 189, 'family=Neisseriaceae(100)': 43, 'genus_1=Helicobacter_unclassified(100)': 184, 'order=Rhizobiales(100)': 226, 'genus_1=Streptococcus_unclassified(100)': 198, 'genus=Escherichia/Shigella(100)': 83, 'order=Bacteria_unclassified(100)': 210, 'genus_0=Gammaproteobacteria_unclassified(100)': 134, 'order=Bacilli_unclassified(100)': 209, 'genus_1=unclassified_Ruminococcaceae_unclassified(62)': 204, 'genus_0=Bacillaceae_unclassified(100)': 112, 'class=TM7_genera_incertae_sedis(100)': 14, 'order=Bacteroidales(100)': 211, 'genus=Turicibacter(100)': 102, 'genus_1=Bacillus_unclassified(100)': 165, 'class=Clostridia(100)': 7, 'genus_1=Clostridiales_unclassified(100)': 172, 'genus_1=Rhodobacter_unclassified(100)': 193, 'family=Staphylococcaceae(100)': 51, 'order=Actinobacteridae(100)': 206, 'genus=Porphyromonas(100)': 92, 'genus_0=Bacteria_unclassified(100)': 116, 'genus_1=Turicibacter_unclassified(100)': 200, 'genus_0=Porphyromonas_unclassified(100)': 140, 'genus_1=Clostridium_unclassified(100)': 175, 'genus_1=TM7_genera_incertae_sedis_unclassified(100)': 199, 'genus=Clostridiales_unclassified(100)': 75, 'genus=Pseudomonadaceae_unclassified(70)': 93, 'class=Actinobacteria(100)': 0, 'genus_1=Barnesiella_unclassified(96)': 169, 'genus=TM7_genera_incertae_sedis_unclassified(100)': 101, 'genus=Bacteria_unclassified(100)': 68, 'genus_1=Bacteroides_unclassified(100)': 167, 'genus=Erysipelotrichaceae_unclassified(100)': 82, 'genus_0=unclassified_Clostridiales_unclassified(63)': 152, 'family=Porphyromonadaceae(100)': 44, 'family=Bacteroidetes_unclassified(100)': 23, 'phylum=Deinococcus-Thermus(100)': 234, 'genus_1=Lactobacillus_unclassified(95)': 186, 'family=Clostridiales_unclassified(100)': 27, 'genus_0=Actinomycetaceae(53)': 107, 'genus=Clostridiales_unclassified(69)': 77, 'family=Verrucomicrobiaceae(100)': 54, 'genus_1=Porphyromonas_unclassified(100)': 190, 'genus=Bacillaceae_unclassified(100)': 64, 'genus_1=Alistipes_unclassified(100)': 160, 'genus_0=Anaerovorax_unclassified(86)': 111, 'phylum=Proteobacteria(100)': 236, 'genus_1=Bifidobacterium_unclassified(100)': 170, 'order=Bacillales(100)': 208, 'genus_1=Pseudomonadaceae_unclassified(70)': 191, 'genus_1=Neisseria_unclassified(100)': 188, 'family=unclassified_Clostridiales(63)': 56, 'family=Ruminococcaceae(96)': 50, 'order=Coriobacteridae(100)': 216, 'phylum=Bacteria_unclassified(100)': 232, 'genus=unclassified_Clostridiales_unclassified(93)': 104, 'family=Rikenellaceae(100)': 48, 'order=Campylobacterales(100)': 213, 'genus=Ruminococcaceae_unclassified(100)': 96, 'identity=Bacteria(100)': 205, 'genus_0=Akkermansia_unclassified(100)': 109, 'order=Firmicutes_unclassified(100)': 220, 'family=Ruminococcaceae(100)': 49, 'genus_0=Clostridiales_unclassified(67)': 123, 'class=Alphaproteobacteria(100)': 1, 'genus_1=Bacillaceae_unclassified(100)': 162, 'family=Rhodobacteraceae(100)': 47, 'genus=Gammaproteobacteria_unclassified(100)': 86, 'genus=Streptococcus(100)': 100, 'family=Xanthomonadaceae(100)': 55, 'genus_0=Lachnospiraceae_unclassified(61)': 136, 'genus_1=Fluviicola_unclassified(100)': 182, 'family=Clostridiales_unclassified(67)': 28, 'genus=Clostridia_unclassified(100)': 73, 'order=Lactobacillales(100)': 223, 'order=Flavobacteriales(100)': 221, 'order=Xanthomonadales(100)': 230, 'phylum=TM7(100)': 237, 'genus_0=Bacilli_unclassified(100)': 114, 'genus_0=Clostridiales_unclassified(69)': 124, 'genus_0=Bacillales_unclassified(100)': 113, 'class=Bacteria_unclassified(100)': 3, 'class=Betaproteobacteria(100)': 6, 'genus_1=Bacteroidetes_unclassified(100)': 168, 'genus_1=Acinetobacter_unclassified(100)': 155, 'genus_1=unclassified_Clostridiaceae_1_unclassified(95)': 201, 'genus_1=Erysipelotrichaceae_unclassified(100)': 179, 'family=Aeromonadaceae(100)': 17, 'class=Bacteroidia(100)': 5, 'family=Bacteroidaceae(100)': 22, 'genus=Cryomorphaceae_unclassified(100)': 80, 'genus_1=unclassified_Clostridiales_unclassified(63)': 202, 'genus=Anaerovorax(86)': 63, 'order=Gammaproteobacteria_unclassified(100)': 222, 'genus_0=Bacteroides_unclassified(100)': 117, 'genus_0=Deinococcus_unclassified(100)': 129, 'family=Clostridiaceae(100)': 26, 'genus=Deinococcus(100)': 81, 'genus_1=Clostridia_unclassified(100)': 171, 'family=Bacilli_unclassified(100)': 20, 'genus_1=Deinococcus_unclassified(100)': 178, 'genus_0=Coriobacteriaceae(100)': 127, 'genus_0=Streptococcus_unclassified(100)': 148, 'genus=Firmicutes_unclassified(100)': 84, 'genus_0=unclassified_Clostridiaceae_1(95)': 151, 'class=Flavobacteria(100)': 12, 'family=Coriobacteriales(100)': 30, 'family=Streptococcaceae(100)': 52, 'genus_0=Neisseria_unclassified(100)': 139, 'genus_1=Stenotrophomonas_unclassified(100)': 197, 'family=Incertae_Sedis_XIII(86)': 38, 'genus=Ruminococcaceae_unclassified(96)': 97}\n"
     ]
    }
   ],
   "source": [
    "# Apply fit_transform to our dataset\n",
    "df_encoded = dv.fit_transform(df_dict)\n",
    "\n",
    "# New column names\n",
    "print(dv.vocabulary_)"
   ]
  },
  {
   "cell_type": "code",
   "execution_count": 10,
   "metadata": {
    "collapsed": false
   },
   "outputs": [
    {
     "data": {
      "text/plain": [
       "(106, 240)"
      ]
     },
     "execution_count": 10,
     "metadata": {},
     "output_type": "execute_result"
    }
   ],
   "source": [
    "# rows and number of column names in the matrix\n",
    "# 106 rows and 240 columns\n",
    "df_encoded.shape"
   ]
  },
  {
   "cell_type": "code",
   "execution_count": 11,
   "metadata": {
    "collapsed": true
   },
   "outputs": [],
   "source": [
    "# t-SNE\n",
    "# find a two dimensional representation of the data that preserves the distances between points as best as possible\n",
    "# preserves information by finding the closest neighbours (points)\n",
    "\n",
    "# instantiate model\n",
    "tsne = TSNE(random_state=42)\n",
    "\n",
    "# fit and transform the data\n",
    "otu_tsne = tsne.fit_transform(df_encoded)"
   ]
  },
  {
   "cell_type": "code",
   "execution_count": 12,
   "metadata": {
    "collapsed": false
   },
   "outputs": [
    {
     "data": {
      "image/png": "[encoded data removed]",
      "text/plain": [
       "<matplotlib.figure.Figure at 0x11d318fd0>"
      ]
     },
     "metadata": {},
     "output_type": "display_data"
    }
   ],
   "source": [
    "# plot \n",
    "xs = otu_tsne[:,0]\n",
    "ys = otu_tsne[:,1]\n",
    "plt.scatter(xs, ys)\n",
    "plt.show()"
   ]
  },
  {
   "cell_type": "markdown",
   "metadata": {},
   "source": [
    "The clusters are not so distinct maybe changing the *learning rate* parameter could help. Let's apply another technique and see how this gones. Prinicipal Component analysis(PCoA), however, Principal Coordinate analysis would be more in this case."
   ]
  },
  {
   "cell_type": "code",
   "execution_count": 13,
   "metadata": {
    "collapsed": true
   },
   "outputs": [],
   "source": [
    "# PCA removes the zero variance features and transforms the data\n",
    "# Another cool thing about PCA is that you can use it for feature extraction\n",
    "\n",
    "stdscale = StandardScaler() # use a standard scaler to ensure each row has a mean of 0 and a variance of 1\n",
    "df_scaled = stdscale.fit_transform(df_encoded) # apply it to our dataset"
   ]
  },
  {
   "cell_type": "code",
   "execution_count": 14,
   "metadata": {
    "collapsed": false
   },
   "outputs": [
    {
     "name": "stdout",
     "output_type": "stream",
     "text": [
      "(106, 106)\n"
     ]
    }
   ],
   "source": [
    "# call PCA\n",
    "model_pca = PCA()\n",
    "transformed = model_pca.fit_transform(df_scaled) #fit\n",
    "print(transformed.shape) # look at the dimensions of the matrix"
   ]
  },
  {
   "cell_type": "code",
   "execution_count": 15,
   "metadata": {
    "collapsed": false
   },
   "outputs": [
    {
     "data": {
      "text/plain": [
       "<matplotlib.collections.PathCollection at 0x11f41f278>"
      ]
     },
     "execution_count": 15,
     "metadata": {},
     "output_type": "execute_result"
    },
    {
     "data": {
      "image/png": "[encoded data removed]",
      "text/plain": [
       "<matplotlib.figure.Figure at 0x11d342c18>"
      ]
     },
     "metadata": {},
     "output_type": "display_data"
    }
   ],
   "source": [
    "# draw a scatter plot of the first two columns, change the transparency of the points and draw the points in red\n",
    "plt.scatter(transformed[:,0], transformed[:,1], alpha = 0.1, color = 'red')"
   ]
  },
  {
   "cell_type": "code",
   "execution_count": 16,
   "metadata": {
    "collapsed": false
   },
   "outputs": [
    {
     "data": {
      "text/plain": [
       "Text(0.5,1,'Finding the ideal number of n_components parameter for PCA')"
      ]
     },
     "execution_count": 16,
     "metadata": {},
     "output_type": "execute_result"
    },
    {
     "data": {
      "image/png": "[encoded data removed]",
      "text/plain": [
       "<matplotlib.figure.Figure at 0x11d351278>"
      ]
     },
     "metadata": {},
     "output_type": "display_data"
    }
   ],
   "source": [
    "# Plot explained total variance of principal components against number of components\n",
    "# make a vertical line to ensure you are extracting the right point on the graph\n",
    "\n",
    "plt.plot(np.cumsum(model_pca.explained_variance_ratio_))\n",
    "plt.axvline(x=48, color='green', linestyle='--')\n",
    "plt.xlabel('Number of components')\n",
    "plt.ylabel('Principal components')\n",
    "plt.title('Finding the ideal number of n_components parameter for PCA')"
   ]
  },
  {
   "cell_type": "code",
   "execution_count": 17,
   "metadata": {
    "collapsed": false
   },
   "outputs": [
    {
     "name": "stdout",
     "output_type": "stream",
     "text": [
      "(106, 106)\n"
     ]
    },
    {
     "data": {
      "text/plain": [
       "<matplotlib.collections.PathCollection at 0x11f568eb8>"
      ]
     },
     "execution_count": 17,
     "metadata": {},
     "output_type": "execute_result"
    },
    {
     "data": {
      "image/png": "[encoded data removed]",
      "text/plain": [
       "<matplotlib.figure.Figure at 0x11d34aac8>"
      ]
     },
     "metadata": {},
     "output_type": "display_data"
    }
   ],
   "source": [
    "# new fit\n",
    "# Let's try adjust the number of components and see what we'll get\n",
    "pca = PCA(n_components=48)\n",
    "transformed = model_pca.fit_transform(df_scaled)\n",
    "print(transformed.shape)\n",
    "plt.scatter(transformed[:,0], transformed[:,1], alpha = 0.1)"
   ]
  },
  {
   "cell_type": "code",
   "execution_count": 18,
   "metadata": {
    "collapsed": false
   },
   "outputs": [
    {
     "data": {
      "text/plain": [
       "Firmicutes(100)               54\n",
       "Proteobacteria(100)           14\n",
       "TM7(100)                      12\n",
       "Bacteria_unclassified(100)    10\n",
       "Bacteroidetes(100)             7\n",
       "Actinobacteria(100)            4\n",
       "Deinococcus-Thermus(100)       4\n",
       "Verrucomicrobia(100)           1\n",
       "Name: phylum, dtype: int64"
      ]
     },
     "execution_count": 18,
     "metadata": {},
     "output_type": "execute_result"
    }
   ],
   "source": [
    "phylum.value_counts()"
   ]
  },
  {
   "cell_type": "markdown",
   "metadata": {},
   "source": [
    "From the results, i suspect that the points between 0 and 2 *x-axis* and 0 and 2 *y-axis* could represent the bacteria which are on the phylum **Firmicutes** to left could be the **Proteobacteria**. Whereas, the isolated points could be **TM7** and **Bacteria_unclassified**. I've achieved partially achieved my objective with this dataset. Later on, I'll run PCoA on this dataset and compare the results. In addition, if you choose another part of the matrix you'll get a different result. "
   ]
  }
 ],
 "metadata": {
  "anaconda-cloud": {},
  "kernelspec": {
   "display_name": "Python [conda env:py35]",
   "language": "python",
   "name": "conda-env-py35-py"
  },
  "language_info": {
   "codemirror_mode": {
    "name": "ipython",
    "version": 3
   },
   "file_extension": ".py",
   "mimetype": "text/x-python",
   "name": "python",
   "nbconvert_exporter": "python",
   "pygments_lexer": "ipython3",
   "version": "3.5.4"
  }
 },
 "nbformat": 4,
 "nbformat_minor": 2
}
